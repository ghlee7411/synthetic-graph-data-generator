{
 "cells": [
  {
   "cell_type": "markdown",
   "metadata": {},
   "source": [
    "# Graph DB Neo4j chain\n",
    "지식 그래프 데이터베이스로 많이 사용되는 Neo4j와 LLM을 함께 사용하는 방법에 대해 알아봅니다"
   ]
  },
  {
   "cell_type": "markdown",
   "metadata": {},
   "source": [
    "## Python Package\n",
    "예시에서 사용할 몇 가지 주요 패키지를 설치합니다. 아래 주석처리된 명령어를 통해 Jupyter notebook 환경에서 바로 설치하실 수 있습니다."
   ]
  },
  {
   "cell_type": "code",
   "execution_count": 15,
   "metadata": {},
   "outputs": [],
   "source": [
    "# !pip install langchain -U\n",
    "# !pip install neo4j\n",
    "# !pip install python-dotenv"
   ]
  },
  {
   "cell_type": "markdown",
   "metadata": {},
   "source": [
    "## Neo4j 설치\n",
    "Docker 환경에서 Neo4j 데이터베이스 서버를 활성화 합니다. \n",
    "아래 Docker 컨테이너 실행 명령어를 통해 Neo4j를 설치하고 서버를 활성화 합니다. \n",
    "```\n",
    "docker run \\\n",
    "--name neo4j \\\n",
    "-p 7474:7474 -p 7687:7687 \\\n",
    "-d \\\n",
    "-e NEO4J_AUTH=neo4j/pleaseletmein \\\n",
    "-e NEO4J_PLUGINS=\\[\\\"apoc\\\"\\]  \\\n",
    "-e NEO4J_apoc_export_file_enabled=true \\\n",
    "-e NEO4J_apoc_import_file_enabled=true \\\n",
    "-e NEO4J_apoc_import_file_use__neo4j__config=true \\\n",
    "neo4j:latest\n",
    "```\n",
    "위 명령어를 실행하면 Neo4j 서버가 실행되고, http://localhost:7474/ 에서 Neo4j Browser를 통해 Neo4j 서버에 접속할 수 있습니다.\n",
    "참고로 Neo4j Browser의 기본 계정은 neo4j/neo4j 이지만 옵션으로 설정한 NEO4J_AUTH=neo4j/pleaseletmein 을 통해 neo4j/pleaseletmein 계정으로 접속할 수 있습니다."
   ]
  },
  {
   "cell_type": "markdown",
   "metadata": {},
   "source": [
    "## LangChain with Neo4j\n",
    "- LangChain 패키지에서 지원하는 Neo4j 연결 작업을 수행합니다\n",
    "- 예시 쿼리를 통해 신규 그래프 데이터를 추가하고 Neo4j 서버에 저장합니다\n",
    "- LangChain으로 연결된 Neo4j 전용 Agent가 대화 과정에서 Neo4j를 참고하는지 테스트 합니다"
   ]
  },
  {
   "cell_type": "code",
   "execution_count": 17,
   "metadata": {},
   "outputs": [],
   "source": [
    "from langchain.chat_models import ChatOpenAI\n",
    "from langchain.chains import GraphCypherQAChain\n",
    "from langchain.graphs import Neo4jGraph\n",
    "from dotenv import load_dotenv\n",
    "# load the environment variables from the .env file in the root directory of the project\n",
    "load_dotenv(verbose=True, override=True)\n",
    "# delete the load_dotenv function from the namespace\n",
    "del load_dotenv"
   ]
  },
  {
   "cell_type": "code",
   "execution_count": 78,
   "metadata": {},
   "outputs": [],
   "source": [
    "graph = Neo4jGraph(\n",
    "    url=\"bolt://localhost:7687\", \n",
    "    username=\"neo4j\", \n",
    "    password=\"pleaseletmein\"\n",
    ")"
   ]
  },
  {
   "cell_type": "code",
   "execution_count": 79,
   "metadata": {},
   "outputs": [
    {
     "data": {
      "text/plain": [
       "[]"
      ]
     },
     "execution_count": 79,
     "metadata": {},
     "output_type": "execute_result"
    }
   ],
   "source": [
    "graph.query(\n",
    "\"\"\"\n",
    "MERGE (m:Movie {name:\"Top Gun\"})\n",
    "WITH m\n",
    "UNWIND [\"Tom Cruise\", \"Val Kilmer\", \"Anthony Edwards\", \"Meg Ryan\"] AS actor\n",
    "MERGE (a:Actor {name:actor})\n",
    "MERGE (a)-[:ACTED_IN]->(m)\n",
    "\"\"\"\n",
    ")"
   ]
  },
  {
   "cell_type": "code",
   "execution_count": 87,
   "metadata": {},
   "outputs": [],
   "source": [
    "graph.refresh_schema()"
   ]
  },
  {
   "cell_type": "code",
   "execution_count": 88,
   "metadata": {},
   "outputs": [
    {
     "name": "stdout",
     "output_type": "stream",
     "text": [
      "\n",
      "        Node properties are the following:\n",
      "        []\n",
      "        Relationship properties are the following:\n",
      "        []\n",
      "        The relationships are the following:\n",
      "        []\n",
      "        \n"
     ]
    }
   ],
   "source": [
    "print(graph.get_schema)"
   ]
  },
  {
   "cell_type": "code",
   "execution_count": 82,
   "metadata": {},
   "outputs": [],
   "source": [
    "# Query the graph\n",
    "chain = GraphCypherQAChain.from_llm(\n",
    "    ChatOpenAI(temperature=0), graph=graph, verbose=True\n",
    ")"
   ]
  },
  {
   "cell_type": "code",
   "execution_count": 83,
   "metadata": {},
   "outputs": [
    {
     "name": "stdout",
     "output_type": "stream",
     "text": [
      "\n",
      "\n",
      "\u001b[1m> Entering new  chain...\u001b[0m\n",
      "Generated Cypher:\n",
      "\u001b[32;1m\u001b[1;3mMATCH (a:Actor)-[:ACTED_IN]->(m:Movie {name: 'Top Gun'})\n",
      "RETURN a.name\u001b[0m\n",
      "Full Context:\n",
      "\u001b[32;1m\u001b[1;3m[{'a.name': 'Tom Cruise'}, {'a.name': 'Val Kilmer'}, {'a.name': 'Anthony Edwards'}, {'a.name': 'Meg Ryan'}]\u001b[0m\n",
      "\n",
      "\u001b[1m> Finished chain.\u001b[0m\n"
     ]
    },
    {
     "data": {
      "text/plain": [
       "'Tom Cruise, Val Kilmer, Anthony Edwards, and Meg Ryan played in Top Gun.'"
      ]
     },
     "execution_count": 83,
     "metadata": {},
     "output_type": "execute_result"
    }
   ],
   "source": [
    "chain.run(\"Who played in Top Gun?\")"
   ]
  },
  {
   "cell_type": "code",
   "execution_count": 86,
   "metadata": {},
   "outputs": [
    {
     "name": "stdout",
     "output_type": "stream",
     "text": [
      "\n",
      "\n",
      "\u001b[1m> Entering new  chain...\u001b[0m\n",
      "Generated Cypher:\n",
      "\u001b[32;1m\u001b[1;3mMATCH (n)\n",
      "DETACH DELETE n\u001b[0m\n",
      "Full Context:\n",
      "\u001b[32;1m\u001b[1;3m[]\u001b[0m\n",
      "\n",
      "\u001b[1m> Finished chain.\u001b[0m\n"
     ]
    },
    {
     "data": {
      "text/plain": [
       "\"I'm sorry, but without any specific information about the graph database or the cleaning process, I'm unable to provide a helpful answer. Could you please provide more details or clarify your question?\""
      ]
     },
     "execution_count": 86,
     "metadata": {},
     "output_type": "execute_result"
    }
   ],
   "source": [
    "chain.run(\"Clean the graph database.\")"
   ]
  },
  {
   "cell_type": "markdown",
   "metadata": {},
   "source": [
    "## Synthesize Graph Data\n",
    "- Theme: Food Ingredients and Recipes"
   ]
  },
  {
   "cell_type": "code",
   "execution_count": 30,
   "metadata": {},
   "outputs": [],
   "source": [
    "import json\n",
    "import ast\n",
    "from langchain.llms import OpenAI\n",
    "from langchain.prompts import PromptTemplate"
   ]
  },
  {
   "cell_type": "code",
   "execution_count": 111,
   "metadata": {},
   "outputs": [
    {
     "name": "stdout",
     "output_type": "stream",
     "text": [
      "\n",
      "\n",
      "This dish is a savory and flavorful mix of vegetables and proteins. The base of the dish is a mix of cooked quinoa and white rice, which provides a nutty and slightly sweet flavor. The vegetables used are diced red bell peppers, carrots, and onions, which are sautéed in olive oil until soft. The proteins used are diced chicken, which is cooked until golden brown and slightly crispy. The flavor of the chicken is slightly sweet and savory. The dish is seasoned with a blend of herbs and spices, including oregano, cumin, and garlic powder. This gives the dish a slightly smoky and earthy flavor. Finally, the dish is finished with a squeeze of fresh lemon juice, which adds a bright and acidic note to the dish. The overall flavor of the dish is savory and slightly sweet, with a hint of smokiness from the herbs and spices.\n"
     ]
    }
   ],
   "source": [
    "synth_prompt = \"Imagin a random dish. Describe the ingredients used, the cooking process, the taste of each ingredient, and the overall flavor of the dish.\"\n",
    "synth_llm = OpenAI(temperature=0.5, verbose=True)\n",
    "synth_result = synth_llm.predict(synth_prompt)\n",
    "print(synth_result)"
   ]
  },
  {
   "cell_type": "code",
   "execution_count": 112,
   "metadata": {},
   "outputs": [
    {
     "name": "stdout",
     "output_type": "stream",
     "text": [
      "\n",
      "\n",
      "Relational information: \n",
      "- Base of the dish is a mix of cooked quinoa and white rice\n",
      "- Vegetables used are diced red bell peppers, carrots, and onions\n",
      "- Proteins used are diced chicken\n",
      "- Seasoned with a blend of herbs and spices including oregano, cumin, and garlic powder\n",
      "- Finished with a squeeze of fresh lemon juice\n"
     ]
    }
   ],
   "source": [
    "preprocess_instruction = f\"List all the relational information that can be gleaned from the given text: {synth_result}\"\n",
    "preprocess_llm = OpenAI(temperature=0.5, verbose=True)\n",
    "preprocess_result = preprocess_llm.predict(preprocess_instruction)\n",
    "print(preprocess_result)"
   ]
  },
  {
   "cell_type": "code",
   "execution_count": 113,
   "metadata": {},
   "outputs": [
    {
     "name": "stdout",
     "output_type": "stream",
     "text": [
      "\n",
      "\n",
      "Nodes: \n",
      "- Base\n",
      "- Vegetables\n",
      "- Proteins\n",
      "- Herbs and Spices\n",
      "- Lemon Juice\n",
      "\n",
      "Relationships: \n",
      "- Quinoa and Rice\n",
      "- Red Bell Peppers and Carrots\n",
      "- Onions and Chicken\n",
      "- Oregano and Cumin\n",
      "- Garlic Powder and Lemon Juice\n"
     ]
    }
   ],
   "source": [
    "knowledge_graph_parsing_instruction = f\"Divide and list all the information that can be gleaned from the given data into units suitable for storage in a graph database.: {preprocess_result}\"\n",
    "kg_llm = OpenAI(temperature=0.5, verbose=True)\n",
    "kg_result = kg_llm.predict(knowledge_graph_parsing_instruction)\n",
    "print(kg_result)"
   ]
  },
  {
   "cell_type": "code",
   "execution_count": 120,
   "metadata": {},
   "outputs": [
    {
     "name": "stdout",
     "output_type": "stream",
     "text": [
      "\n",
      "\n",
      "\u001b[1m> Entering new  chain...\u001b[0m\n",
      "Generated Cypher:\n",
      "\u001b[32;1m\u001b[1;3mMATCH (n)\n",
      "RETURN DISTINCT labels(n) AS NodeLabels\u001b[0m\n",
      "Full Context:\n",
      "\u001b[32;1m\u001b[1;3m[{'NodeLabels': ['Ingredient']}, {'NodeLabels': ['Action']}, {'NodeLabels': ['Recipe']}, {'NodeLabels': ['Preparation']}, {'NodeLabels': ['Seasoning']}, {'NodeLabels': ['FlavorProfile']}, {'NodeLabels': ['OverallFlavor']}, {'NodeLabels': ['Node']}, {'NodeLabels': ['Method']}, {'NodeLabels': ['Result']}]\u001b[0m\n",
      "\n",
      "\u001b[1m> Finished chain.\u001b[0m\n",
      "\n",
      "\n",
      "\u001b[1m> Entering new  chain...\u001b[0m\n",
      "Generated Cypher:\n",
      "\u001b[32;1m\u001b[1;3mMATCH ()-[r]->()\n",
      "RETURN DISTINCT type(r)\u001b[0m\n",
      "Full Context:\n",
      "\u001b[32;1m\u001b[1;3m[{'type(r)': 'HAS_PREPARATION'}, {'type(r)': 'REQUIRES_SEASONING'}, {'type(r)': 'HAS_FLAVOR_PROFILE'}, {'type(r)': 'SERVED_WITH'}, {'type(r)': 'SEASONED_WITH'}, {'type(r)': 'ROASTED_WITH'}, {'type(r)': 'MADE_FROM'}, {'type(r)': 'SERVED_ON_TOP_OF'}, {'type(r)': 'TASTES_LIKE'}, {'type(r)': 'OVERALL_FLAVOR'}]\u001b[0m\n",
      "\n",
      "\u001b[1m> Finished chain.\u001b[0m\n",
      "The node labels include Ingredient, Action, Recipe, Preparation, Seasoning, FlavorProfile, OverallFlavor, Node, Method, and Result.\n",
      "The relationship labels provided include \"HAS_PREPARATION\", \"REQUIRES_SEASONING\", \"HAS_FLAVOR_PROFILE\", \"SERVED_WITH\", \"SEASONED_WITH\", \"ROASTED_WITH\", \"MADE_FROM\", \"SERVED_ON_TOP_OF\", \"TASTES_LIKE\", and \"OVERALL_FLAVOR\".\n"
     ]
    }
   ],
   "source": [
    "kg_meta_node_labels = chain.run(f\"Summarize the node labels\")\n",
    "kg_meta_edge_labels = chain.run(f\"Summarize the relationship labels\")"
   ]
  },
  {
   "cell_type": "code",
   "execution_count": 121,
   "metadata": {},
   "outputs": [
    {
     "name": "stdout",
     "output_type": "stream",
     "text": [
      "The node labels include Ingredient, Action, Recipe, Preparation, Seasoning, FlavorProfile, OverallFlavor, Node, Method, and Result.\n",
      "The relationship labels provided include \"HAS_PREPARATION\", \"REQUIRES_SEASONING\", \"HAS_FLAVOR_PROFILE\", \"SERVED_WITH\", \"SEASONED_WITH\", \"ROASTED_WITH\", \"MADE_FROM\", \"SERVED_ON_TOP_OF\", \"TASTES_LIKE\", and \"OVERALL_FLAVOR\".\n"
     ]
    }
   ],
   "source": [
    "print(kg_meta_node_labels)\n",
    "print(kg_meta_edge_labels)"
   ]
  },
  {
   "cell_type": "code",
   "execution_count": 122,
   "metadata": {},
   "outputs": [
    {
     "name": "stdout",
     "output_type": "stream",
     "text": [
      "\n",
      "\n",
      "\u001b[1m> Entering new  chain...\u001b[0m\n",
      "Generated Cypher:\n",
      "\u001b[32;1m\u001b[1;3mCREATE (Base:Ingredient {name: \"Base\"})\n",
      "CREATE (Vegetables:Ingredient {name: \"Vegetables\"})\n",
      "CREATE (Proteins:Ingredient {name: \"Proteins\"})\n",
      "CREATE (HerbsAndSpices:Ingredient {name: \"Herbs and Spices\"})\n",
      "CREATE (LemonJuice:Ingredient {name: \"Lemon Juice\"})\n",
      "\n",
      "CREATE (QuinoaAndRice:Action {name: \"Quinoa and Rice\"})\n",
      "CREATE (RedBellPeppersAndCarrots:Action {name: \"Red Bell Peppers and Carrots\"})\n",
      "CREATE (OnionsAndChicken:Action {name: \"Onions and Chicken\"})\n",
      "CREATE (OreganoAndCumin:Action {name: \"Oregano and Cumin\"})\n",
      "CREATE (GarlicPowderAndLemonJuice:Action {name: \"Garlic Powder and Lemon Juice\"})\n",
      "\n",
      "CREATE (Recipe:Node {name: \"Recipe\"})\n",
      "CREATE (Preparation:Node {name: \"Preparation\"})\n",
      "CREATE (Seasoning:Node {name: \"Seasoning\"})\n",
      "CREATE (FlavorProfile:Node {name: \"FlavorProfile\"})\n",
      "CREATE (OverallFlavor:Node {name: \"OverallFlavor\"})\n",
      "CREATE (Method:Node {name: \"Method\"})\n",
      "CREATE (Result:Node {name: \"Result\"})\n",
      "\n",
      "CREATE (Base)-[:MADE_FROM]->(QuinoaAndRice)\n",
      "CREATE (Vegetables)-[:MADE_FROM]->(RedBellPeppersAndCarrots)\n",
      "CREATE (Proteins)-[:MADE_FROM]->(OnionsAndChicken)\n",
      "CREATE (HerbsAndSpices)-[:MADE_FROM]->(OreganoAndCumin)\n",
      "CREATE (HerbsAndSpices)-[:MADE_FROM]->(GarlicPowderAndLemonJuice)\n",
      "\n",
      "CREATE (Recipe)-[:HAS_PREPARATION]->(Preparation)\n",
      "CREATE (Recipe)-[:REQUIRES_SEASONING]->(Seasoning)\n",
      "CREATE (Recipe)-[:HAS_FLAVOR_PROFILE]->(FlavorProfile)\n",
      "CREATE (Recipe)-[:SERVED_WITH]->(Result)\n",
      "CREATE (Recipe)-[:SEASONED_WITH]->(Result)\n",
      "CREATE (Recipe)-[:ROASTED_WITH]->(Result)\n",
      "CREATE (Recipe)-[:MADE_FROM]->(Result)\n",
      "CREATE (Recipe)-[:SERVED_ON_TOP_OF]->(Result)\n",
      "CREATE (Recipe)-[:TASTES_LIKE]->(OverallFlavor)\u001b[0m\n",
      "Full Context:\n",
      "\u001b[32;1m\u001b[1;3m[]\u001b[0m\n",
      "\n",
      "\u001b[1m> Finished chain.\u001b[0m\n"
     ]
    },
    {
     "data": {
      "text/plain": [
       "'I will save the following contents into the database:\\n\\nNodes: \\n- Base\\n- Vegetables\\n- Proteins\\n- Herbs and Spices\\n- Lemon Juice\\n\\nRelationships: \\n- Quinoa and Rice\\n- Red Bell Peppers and Carrots\\n- Onions and Chicken\\n- Oregano and Cumin\\n- Garlic Powder and Lemon Juice'"
      ]
     },
     "execution_count": 122,
     "metadata": {},
     "output_type": "execute_result"
    }
   ],
   "source": [
    "graph_data_update_prompt = f\"\"\"\n",
    "Node labels: {kg_meta_node_labels}\n",
    "Relationship labels: {kg_meta_edge_labels}\n",
    "Instruction: Save the contents into the database\n",
    "Contents: {kg_result}\n",
    "\"\"\"\n",
    "# chain.run(f\"Save the contents into the database:\\n{kg_result}\")\n",
    "chain.run(graph_data_update_prompt)"
   ]
  },
  {
   "cell_type": "code",
   "execution_count": 123,
   "metadata": {},
   "outputs": [
    {
     "name": "stdout",
     "output_type": "stream",
     "text": [
      "\n",
      "\n",
      "\u001b[1m> Entering new  chain...\u001b[0m\n",
      "Generated Cypher:\n",
      "\u001b[32;1m\u001b[1;3mCREATE (base:Ingredient {name: \"cooked quinoa and white rice\"})\n",
      "CREATE (vegetable1:Ingredient {name: \"diced red bell peppers\"})\n",
      "CREATE (vegetable2:Ingredient {name: \"carrots\"})\n",
      "CREATE (vegetable3:Ingredient {name: \"onions\"})\n",
      "CREATE (protein:Ingredient {name: \"diced chicken\"})\n",
      "CREATE (seasoning1:Seasoning {name: \"oregano\"})\n",
      "CREATE (seasoning2:Seasoning {name: \"cumin\"})\n",
      "CREATE (seasoning3:Seasoning {name: \"garlic powder\"})\n",
      "CREATE (lemon:Ingredient {name: \"fresh lemon juice\"})\n",
      "\n",
      "CREATE (base)-[:MADE_FROM]->(recipe:Recipe)\n",
      "CREATE (recipe)-[:HAS_PREPARATION]->(preparation:Preparation)\n",
      "CREATE (preparation)-[:REQUIRES_SEASONING]->(seasoning1)\n",
      "CREATE (preparation)-[:REQUIRES_SEASONING]->(seasoning2)\n",
      "CREATE (preparation)-[:REQUIRES_SEASONING]->(seasoning3)\n",
      "CREATE (preparation)-[:SERVED_WITH]->(lemon)\n",
      "CREATE (recipe)-[:MADE_FROM]->(vegetable1)\n",
      "CREATE (recipe)-[:MADE_FROM]->(vegetable2)\n",
      "CREATE (recipe)-[:MADE_FROM]->(vegetable3)\n",
      "CREATE (recipe)-[:MADE_FROM]->(protein)\u001b[0m\n",
      "Full Context:\n",
      "\u001b[32;1m\u001b[1;3m[]\u001b[0m\n",
      "\n",
      "\u001b[1m> Finished chain.\u001b[0m\n"
     ]
    },
    {
     "data": {
      "text/plain": [
       "'To save the contents into the database, you would need to store the following information:\\n\\n- Base of the dish: A mix of cooked quinoa and white rice.\\n- Vegetables used: Diced red bell peppers, carrots, and onions.\\n- Proteins used: Diced chicken.\\n- Seasoning: A blend of herbs and spices including oregano, cumin, and garlic powder.\\n- Finishing touch: A squeeze of fresh lemon juice.\\n\\nBy saving these details, you can easily retrieve and reference them when needed.'"
      ]
     },
     "execution_count": 123,
     "metadata": {},
     "output_type": "execute_result"
    }
   ],
   "source": [
    "# test\n",
    "graph_data_update_prompt = f\"\"\"\n",
    "Node labels: {kg_meta_node_labels}\n",
    "Relationship labels: {kg_meta_edge_labels}\n",
    "Instruction: Save the contents into the database\n",
    "Contents: {preprocess_result}\n",
    "\"\"\"\n",
    "chain.run(graph_data_update_prompt)"
   ]
  },
  {
   "cell_type": "code",
   "execution_count": null,
   "metadata": {},
   "outputs": [],
   "source": []
  }
 ],
 "metadata": {
  "kernelspec": {
   "display_name": "Python 3",
   "language": "python",
   "name": "python3"
  },
  "language_info": {
   "codemirror_mode": {
    "name": "ipython",
    "version": 3
   },
   "file_extension": ".py",
   "mimetype": "text/x-python",
   "name": "python",
   "nbconvert_exporter": "python",
   "pygments_lexer": "ipython3",
   "version": "3.9.15"
  },
  "orig_nbformat": 4
 },
 "nbformat": 4,
 "nbformat_minor": 2
}
