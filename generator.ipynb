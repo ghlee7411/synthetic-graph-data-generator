{
 "cells": [
  {
   "cell_type": "markdown",
   "metadata": {},
   "source": [
    "# Graph DB Neo4j chain\n",
    "지식 그래프 데이터베이스로 많이 사용되는 Neo4j와 LLM을 함께 사용하는 방법에 대해 알아봅니다"
   ]
  },
  {
   "cell_type": "markdown",
   "metadata": {},
   "source": [
    "## Python Package\n",
    "예시에서 사용할 몇 가지 주요 패키지를 설치합니다. 아래 주석처리된 명령어를 통해 Jupyter notebook 환경에서 바로 설치하실 수 있습니다."
   ]
  },
  {
   "cell_type": "code",
   "execution_count": 15,
   "metadata": {},
   "outputs": [],
   "source": [
    "# !pip install langchain -U\n",
    "# !pip install neo4j\n",
    "# !pip install python-dotenv"
   ]
  },
  {
   "cell_type": "markdown",
   "metadata": {},
   "source": [
    "## Neo4j 설치\n",
    "Docker 환경에서 Neo4j 데이터베이스 서버를 활성화 합니다. \n",
    "아래 Docker 컨테이너 실행 명령어를 통해 Neo4j를 설치하고 서버를 활성화 합니다. \n",
    "```\n",
    "docker run \\\n",
    "--name neo4j \\\n",
    "-p 7474:7474 -p 7687:7687 \\\n",
    "-d \\\n",
    "-e NEO4J_AUTH=neo4j/pleaseletmein \\\n",
    "-e NEO4J_PLUGINS=\\[\\\"apoc\\\"\\]  \\\n",
    "-e NEO4J_apoc_export_file_enabled=true \\\n",
    "-e NEO4J_apoc_import_file_enabled=true \\\n",
    "-e NEO4J_apoc_import_file_use__neo4j__config=true \\\n",
    "neo4j:latest\n",
    "```\n",
    "위 명령어를 실행하면 Neo4j 서버가 실행되고, http://localhost:7474/ 에서 Neo4j Browser를 통해 Neo4j 서버에 접속할 수 있습니다.\n",
    "참고로 Neo4j Browser의 기본 계정은 neo4j/neo4j 이지만 옵션으로 설정한 NEO4J_AUTH=neo4j/pleaseletmein 을 통해 neo4j/pleaseletmein 계정으로 접속할 수 있습니다."
   ]
  },
  {
   "cell_type": "markdown",
   "metadata": {},
   "source": [
    "## LangChain with Neo4j\n",
    "- LangChain 패키지에서 지원하는 Neo4j 연결 작업을 수행합니다\n",
    "- 예시 쿼리를 통해 신규 그래프 데이터를 추가하고 Neo4j 서버에 저장합니다\n",
    "- LangChain으로 연결된 Neo4j 전용 Agent가 대화 과정에서 Neo4j를 참고하는지 테스트 합니다"
   ]
  },
  {
   "cell_type": "code",
   "execution_count": 17,
   "metadata": {},
   "outputs": [],
   "source": [
    "from langchain.chat_models import ChatOpenAI\n",
    "from langchain.chains import GraphCypherQAChain\n",
    "from langchain.graphs import Neo4jGraph\n",
    "from dotenv import load_dotenv\n",
    "# load the environment variables from the .env file in the root directory of the project\n",
    "load_dotenv(verbose=True, override=True)\n",
    "# delete the load_dotenv function from the namespace\n",
    "del load_dotenv"
   ]
  },
  {
   "cell_type": "code",
   "execution_count": 78,
   "metadata": {},
   "outputs": [],
   "source": [
    "graph = Neo4jGraph(\n",
    "    url=\"bolt://localhost:7687\", \n",
    "    username=\"neo4j\", \n",
    "    password=\"pleaseletmein\"\n",
    ")"
   ]
  },
  {
   "cell_type": "code",
   "execution_count": 79,
   "metadata": {},
   "outputs": [
    {
     "data": {
      "text/plain": [
       "[]"
      ]
     },
     "execution_count": 79,
     "metadata": {},
     "output_type": "execute_result"
    }
   ],
   "source": [
    "graph.query(\n",
    "\"\"\"\n",
    "MERGE (m:Movie {name:\"Top Gun\"})\n",
    "WITH m\n",
    "UNWIND [\"Tom Cruise\", \"Val Kilmer\", \"Anthony Edwards\", \"Meg Ryan\"] AS actor\n",
    "MERGE (a:Actor {name:actor})\n",
    "MERGE (a)-[:ACTED_IN]->(m)\n",
    "\"\"\"\n",
    ")"
   ]
  },
  {
   "cell_type": "code",
   "execution_count": 87,
   "metadata": {},
   "outputs": [],
   "source": [
    "graph.refresh_schema()"
   ]
  },
  {
   "cell_type": "code",
   "execution_count": 88,
   "metadata": {},
   "outputs": [
    {
     "name": "stdout",
     "output_type": "stream",
     "text": [
      "\n",
      "        Node properties are the following:\n",
      "        []\n",
      "        Relationship properties are the following:\n",
      "        []\n",
      "        The relationships are the following:\n",
      "        []\n",
      "        \n"
     ]
    }
   ],
   "source": [
    "print(graph.get_schema)"
   ]
  },
  {
   "cell_type": "code",
   "execution_count": 82,
   "metadata": {},
   "outputs": [],
   "source": [
    "# Query the graph\n",
    "chain = GraphCypherQAChain.from_llm(\n",
    "    ChatOpenAI(temperature=0), graph=graph, verbose=True\n",
    ")"
   ]
  },
  {
   "cell_type": "code",
   "execution_count": 83,
   "metadata": {},
   "outputs": [
    {
     "name": "stdout",
     "output_type": "stream",
     "text": [
      "\n",
      "\n",
      "\u001b[1m> Entering new  chain...\u001b[0m\n",
      "Generated Cypher:\n",
      "\u001b[32;1m\u001b[1;3mMATCH (a:Actor)-[:ACTED_IN]->(m:Movie {name: 'Top Gun'})\n",
      "RETURN a.name\u001b[0m\n",
      "Full Context:\n",
      "\u001b[32;1m\u001b[1;3m[{'a.name': 'Tom Cruise'}, {'a.name': 'Val Kilmer'}, {'a.name': 'Anthony Edwards'}, {'a.name': 'Meg Ryan'}]\u001b[0m\n",
      "\n",
      "\u001b[1m> Finished chain.\u001b[0m\n"
     ]
    },
    {
     "data": {
      "text/plain": [
       "'Tom Cruise, Val Kilmer, Anthony Edwards, and Meg Ryan played in Top Gun.'"
      ]
     },
     "execution_count": 83,
     "metadata": {},
     "output_type": "execute_result"
    }
   ],
   "source": [
    "chain.run(\"Who played in Top Gun?\")"
   ]
  },
  {
   "cell_type": "code",
   "execution_count": 86,
   "metadata": {},
   "outputs": [
    {
     "name": "stdout",
     "output_type": "stream",
     "text": [
      "\n",
      "\n",
      "\u001b[1m> Entering new  chain...\u001b[0m\n",
      "Generated Cypher:\n",
      "\u001b[32;1m\u001b[1;3mMATCH (n)\n",
      "DETACH DELETE n\u001b[0m\n",
      "Full Context:\n",
      "\u001b[32;1m\u001b[1;3m[]\u001b[0m\n",
      "\n",
      "\u001b[1m> Finished chain.\u001b[0m\n"
     ]
    },
    {
     "data": {
      "text/plain": [
       "\"I'm sorry, but without any specific information about the graph database or the cleaning process, I'm unable to provide a helpful answer. Could you please provide more details or clarify your question?\""
      ]
     },
     "execution_count": 86,
     "metadata": {},
     "output_type": "execute_result"
    }
   ],
   "source": [
    "chain.run(\"Clean the graph database.\")"
   ]
  },
  {
   "cell_type": "markdown",
   "metadata": {},
   "source": [
    "## Synthesize Graph Data\n",
    "- Theme: Food Ingredients and Recipes"
   ]
  },
  {
   "cell_type": "code",
   "execution_count": 30,
   "metadata": {},
   "outputs": [],
   "source": [
    "import json\n",
    "import ast\n",
    "from langchain.llms import OpenAI\n",
    "from langchain.prompts import PromptTemplate"
   ]
  },
  {
   "cell_type": "code",
   "execution_count": 89,
   "metadata": {},
   "outputs": [
    {
     "name": "stdout",
     "output_type": "stream",
     "text": [
      "\n",
      "\n",
      "This dish is a savory and creamy mix of roasted sweet potatoes, earthy mushrooms, and nutty lentils.\n",
      "\n",
      "The sweet potatoes are diced and roasted in olive oil and garlic until they are golden and tender. The mushrooms are sautéed in butter and seasoned with thyme, salt, and pepper. The lentils are cooked in a flavorful vegetable broth and seasoned with bay leaves and cumin.\n",
      "\n",
      "The sweet potatoes have a caramelized, slightly sweet flavor. The mushrooms are earthy and savory. The lentils have a nutty flavor with a hint of spice from the cumin.\n",
      "\n",
      "When all the ingredients are combined, they create a creamy, savory dish with a hint of sweetness from the sweet potatoes. The earthy mushrooms and nutty lentils combine to give the dish a rich and comforting flavor.\n"
     ]
    }
   ],
   "source": [
    "synth_prompt = \"Imagin a random dish. Describe the ingredients used, the cooking process, the taste of each ingredient, and the overall flavor of the dish.\"\n",
    "synth_llm = OpenAI(temperature=0.5, verbose=True)\n",
    "synth_result = synth_llm.predict(synth_prompt)\n",
    "print(synth_result)"
   ]
  },
  {
   "cell_type": "code",
   "execution_count": 90,
   "metadata": {},
   "outputs": [
    {
     "name": "stdout",
     "output_type": "stream",
     "text": [
      "\n",
      "\n",
      "-Roasted sweet potatoes, earthy mushrooms, and nutty lentils are the main ingredients of the dish. \n",
      "-The sweet potatoes are diced and roasted in olive oil and garlic.\n",
      "-The mushrooms are sautéed in butter and seasoned with thyme, salt, and pepper. \n",
      "-The lentils are cooked in a flavorful vegetable broth and seasoned with bay leaves and cumin.\n",
      "-The sweet potatoes have a caramelized, slightly sweet flavor. \n",
      "-The mushrooms are earthy and savory. \n",
      "-The lentils have a nutty flavor with a hint of spice from the cumin.\n",
      "-When all the ingredients are combined, they create a creamy, savory dish with a hint of sweetness from the sweet potatoes. \n",
      "-The earthy mushrooms and nutty lentils combine to give the dish a rich and comforting flavor.\n"
     ]
    }
   ],
   "source": [
    "preprocess_instruction = f\"주어진 텍스트에서 얻어낼 수 있는 모든 관계성 정보들을 나열하시오: {synth_result}\"\n",
    "preprocess_llm = OpenAI(temperature=0.5, verbose=True)\n",
    "preprocess_result = preprocess_llm.predict(preprocess_instruction)\n",
    "print(preprocess_result)"
   ]
  },
  {
   "cell_type": "code",
   "execution_count": 91,
   "metadata": {},
   "outputs": [
    {
     "name": "stdout",
     "output_type": "stream",
     "text": [
      "\n",
      "\n",
      "1. Ingredient: Sweet Potatoes, Mushrooms, Lentils \n",
      "2. Preparation: Dice and Roast (Sweet Potatoes), Sauté (Mushrooms), Cook (Lentils) \n",
      "3. Seasonings: Olive Oil, Garlic, Butter, Thyme, Salt, Pepper, Bay Leaves, Cumin\n",
      "4. Flavor Profile: Caramelized, Sweet, Earthy, Savory, Nutty, Spicy, Creamy, Comforting \n",
      "5. Overall Flavor: Rich, Savory, Sweet\n"
     ]
    }
   ],
   "source": [
    "knowledge_graph_parsing_instruction = f\"주어진 데이터에서 얻어낼 수 있는 모든 정보들을 그래프 데이터베이스에 저장하기 위한 단위로 나누어 나열하시오: {preprocess_result}\"\n",
    "kg_llm = OpenAI(temperature=0.5, verbose=True)\n",
    "kg_result = kg_llm.predict(knowledge_graph_parsing_instruction)\n",
    "print(kg_result)"
   ]
  },
  {
   "cell_type": "code",
   "execution_count": 92,
   "metadata": {},
   "outputs": [
    {
     "name": "stdout",
     "output_type": "stream",
     "text": [
      "\n",
      "\n",
      "\u001b[1m> Entering new  chain...\u001b[0m\n",
      "Generated Cypher:\n",
      "\u001b[32;1m\u001b[1;3mCREATE (i1:Ingredient {name: \"Sweet Potatoes\"})\n",
      "CREATE (i2:Ingredient {name: \"Mushrooms\"})\n",
      "CREATE (i3:Ingredient {name: \"Lentils\"})\n",
      "CREATE (p1:Preparation {name: \"Dice and Roast\"})\n",
      "CREATE (p2:Preparation {name: \"Sauté\"})\n",
      "CREATE (p3:Preparation {name: \"Cook\"})\n",
      "CREATE (s1:Seasoning {name: \"Olive Oil\"})\n",
      "CREATE (s2:Seasoning {name: \"Garlic\"})\n",
      "CREATE (s3:Seasoning {name: \"Butter\"})\n",
      "CREATE (s4:Seasoning {name: \"Thyme\"})\n",
      "CREATE (s5:Seasoning {name: \"Salt\"})\n",
      "CREATE (s6:Seasoning {name: \"Pepper\"})\n",
      "CREATE (s7:Seasoning {name: \"Bay Leaves\"})\n",
      "CREATE (s8:Seasoning {name: \"Cumin\"})\n",
      "CREATE (fp1:FlavorProfile {name: \"Caramelized\"})\n",
      "CREATE (fp2:FlavorProfile {name: \"Sweet\"})\n",
      "CREATE (fp3:FlavorProfile {name: \"Earthy\"})\n",
      "CREATE (fp4:FlavorProfile {name: \"Savory\"})\n",
      "CREATE (fp5:FlavorProfile {name: \"Nutty\"})\n",
      "CREATE (fp6:FlavorProfile {name: \"Spicy\"})\n",
      "CREATE (fp7:FlavorProfile {name: \"Creamy\"})\n",
      "CREATE (fp8:FlavorProfile {name: \"Comforting\"})\n",
      "CREATE (of:OverallFlavor {name: \"Rich, Savory, Sweet\"})\n",
      "\n",
      "CREATE (i1)-[:HAS_PREPARATION]->(p1)\n",
      "CREATE (i2)-[:HAS_PREPARATION]->(p2)\n",
      "CREATE (i3)-[:HAS_PREPARATION]->(p3)\n",
      "\n",
      "CREATE (p1)-[:REQUIRES_SEASONING]->(s1)\n",
      "CREATE (p1)-[:REQUIRES_SEASONING]->(s5)\n",
      "CREATE (p1)-[:REQUIRES_SEASONING]->(s6)\n",
      "\n",
      "CREATE (p2)-[:REQUIRES_SEASONING]->(s1)\n",
      "CREATE (p2)-[:REQUIRES_SEASONING]->(s2)\n",
      "CREATE (p2)-[:REQUIRES_SEASONING]->(s3)\n",
      "\n",
      "CREATE (p3)-[:REQUIRES_SEASONING]->(s1)\n",
      "CREATE (p3)-[:REQUIRES_SEASONING]->(s2)\n",
      "CREATE (p3)-[:REQUIRES_SEASONING]->(s4)\n",
      "CREATE (p3)-[:REQUIRES_SEASONING]->(s5)\n",
      "CREATE (p3)-[:REQUIRES_SEASONING]->(s6)\n",
      "CREATE (p3)-[:REQUIRES_SEASONING]->(s7)\n",
      "CREATE (p3)-[:REQUIRES_SEASONING]->(s8)\n",
      "\n",
      "CREATE (p1)-[:HAS_FLAVOR_PROFILE]->(fp1)\n",
      "CREATE (p1)-[:HAS_FLAVOR_PROFILE]->(fp2)\n",
      "CREATE (p2)-[:HAS_FLAVOR_PROFILE]->(fp3)\n",
      "CREATE (p2)-[:HAS_FLAVOR_PROFILE]->(fp4)\n",
      "CREATE (p2)-[:HAS_FLAVOR_PROFILE]->(fp5)\n",
      "CREATE (p3)-[:HAS_FLAVOR_PROFILE]->(fp4)\n",
      "CREATE (p3)-[:HAS_FLAVOR_PROFILE]->(fp6)\n",
      "CREATE (p3)-[:HAS_FLAVOR_PROFILE]->(fp7)\n",
      "CREATE (p3)-[:HAS_FLAVOR_PROFILE]->(fp8)\n",
      "\n",
      "CREATE (of)-[:HAS_FLAVOR_PROFILE]->(fp4)\n",
      "CREATE (of)-[:HAS_FLAVOR_PROFILE]->(fp7)\n",
      "CREATE (of)-[:HAS_FLAVOR_PROFILE]->(fp2)\u001b[0m\n",
      "Full Context:\n",
      "\u001b[32;1m\u001b[1;3m[]\u001b[0m\n",
      "\n",
      "\u001b[1m> Finished chain.\u001b[0m\n"
     ]
    },
    {
     "data": {
      "text/plain": [
       "'To save the contents into the database, you would need to store the following information:\\n\\n1. Ingredient: Sweet Potatoes, Mushrooms, Lentils\\n2. Preparation: Dice and Roast (Sweet Potatoes), Sauté (Mushrooms), Cook (Lentils)\\n3. Seasonings: Olive Oil, Garlic, Butter, Thyme, Salt, Pepper, Bay Leaves, Cumin\\n4. Flavor Profile: Caramelized, Sweet, Earthy, Savory, Nutty, Spicy, Creamy, Comforting\\n5. Overall Flavor: Rich, Savory, Sweet\\n\\nBy saving these details, you can easily retrieve and reference them when needed.'"
      ]
     },
     "execution_count": 92,
     "metadata": {},
     "output_type": "execute_result"
    }
   ],
   "source": [
    "chain.run(f\"Save the contents into the database:\\n{kg_result}\")"
   ]
  },
  {
   "cell_type": "code",
   "execution_count": null,
   "metadata": {},
   "outputs": [],
   "source": []
  },
  {
   "cell_type": "code",
   "execution_count": null,
   "metadata": {},
   "outputs": [],
   "source": []
  }
 ],
 "metadata": {
  "kernelspec": {
   "display_name": "Python 3",
   "language": "python",
   "name": "python3"
  },
  "language_info": {
   "codemirror_mode": {
    "name": "ipython",
    "version": 3
   },
   "file_extension": ".py",
   "mimetype": "text/x-python",
   "name": "python",
   "nbconvert_exporter": "python",
   "pygments_lexer": "ipython3",
   "version": "3.9.15"
  },
  "orig_nbformat": 4
 },
 "nbformat": 4,
 "nbformat_minor": 2
}
